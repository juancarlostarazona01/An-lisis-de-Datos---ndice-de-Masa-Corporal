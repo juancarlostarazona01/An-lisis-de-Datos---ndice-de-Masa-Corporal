{
  "cells": [
    {
      "cell_type": "markdown",
      "metadata": {
        "id": "oWPdQ8zTjdB-"
      },
      "source": [
        "<div>\n",
        "<br>\n",
        "<i></i> Métricas de rendimiento HPC\n",
        "<br>\n",
        "<i></i> Juan Carlos Tarazona Contreras.\n",
        "<br>\n",
        "<i><b>Tema:</b></i> Análisis exploratorio de datos.\n",
        "<br>\n",
        "<br>\n",
        "10/09/2022\n",
        "<br>\n",
        "</FONT>\n",
        "</div>"
      ]
    },
    {
      "cell_type": "markdown",
      "metadata": {
        "id": "Uhl7cATHjdB-"
      },
      "source": [
        "# Modelo **03**\n",
        "\n",
        "### Descripción de Valores:\n",
        "\n",
        "    Age: continuo.\n",
        "    Bodymass: continuo.\n",
        "    Height: continuo.\n",
        "    Education: 11th, HS-grad, Assoc-acdm, Some-college, 10th, Prof-school, 7th-8th, 9th,\n",
        "               12th, Bachelors, Masters, Doctorate, 5th-6th, Assoc-voc, 1st-4th, Preschool.\n",
        "    Martial_Status: Never-married, Married-civ-spouse, Widowed, Divorced,\n",
        "                    Separated, Married-spouse-absent, Married-AF-spouse.\n",
        "    Occupation: Machine-op-inspct, Farming-fishing, Protective-serv, Other-service, Sales,\n",
        "                Prof-specialty, Craft-repair, Adm-clerical, Exec-managerial, Armed-Forces,\n",
        "                Tech-support,  Priv-house-serv, Transport-moving, Handlers-cleaners.\n",
        "    Race: Black, White, Asian-Pac-Islander, Other, Amer-Indian-Eskimo.\n",
        "    Sex: Male, Female.\n",
        "    Hours_per_week: tiempo en horas.\n",
        "    Country: United-States, Peru, Guatemala, Mexico, Dominican-Republic,\n",
        "             Ireland, Germany, Philippines, Thailand, Haiti, El-Salvador,\n",
        "             Puerto-Rico, Vietnam, South, Columbia, Japan, India, Laos,\n",
        "             Cambodia, Poland, England, Cuba, Taiwan, Italy, Portugal,\n",
        "             Canada, China, Nicaragua, Honduras, Iran, Yugoslavi, Greece,\n",
        "             Scotland, Jamaica, Ecuador,  Hungary, Hong, Trinadad&Tobago,\n",
        "             Outlying-US(Guam-USVI-etc), France.\n",
        "    Target: <=50K, >50K."
      ]
    },
    {
      "cell_type": "markdown",
      "metadata": {
        "id": "P90BSCXMjdB_"
      },
      "source": [
        "## 0.- Bibliotecas y Lectura"
      ]
    },
    {
      "cell_type": "code",
      "execution_count": null,
      "metadata": {
        "id": "uwLxr1x1jdB_"
      },
      "outputs": [],
      "source": [
        "# Se importan las bibliotecas necesarias\n",
        "import pandas as pd\n",
        "import numpy as np\n",
        "import seaborn as sns\n",
        "import matplotlib.pyplot as plt\n",
        "from pandas.core.reshape.reshape import get_dummies\n",
        "from sklearn.model_selection import train_test_split\n",
        "from sklearn.tree import DecisionTreeClassifier\n",
        "from sklearn.model_selection import cross_validate\n",
        "\n",
        "import seaborn as sns"
      ]
    },
    {
      "cell_type": "code",
      "execution_count": null,
      "metadata": {
        "id": "DOA-bPRpjdB_"
      },
      "outputs": [],
      "source": [
        "# Se importa el dataframe el dataset indiceMasaCorporal.csv\n",
        "df = pd.read_csv(\"/content/indiceMasaCorporal.csv\")"
      ]
    },
    {
      "cell_type": "code",
      "execution_count": null,
      "metadata": {
        "colab": {
          "base_uri": "https://localhost:8080/",
          "height": 206
        },
        "id": "e3XbyYsVjdB_",
        "outputId": "03fc28f9-e78c-4d58-bf0a-1da60e66ef94"
      },
      "outputs": [
        {
          "output_type": "execute_result",
          "data": {
            "text/plain": [
              "                    Age  Bodymass  Height      Education       Martial_Status  \\\n",
              "0  |1x3 Cross validator    112.82  175.64            NaN                  NaN   \n",
              "1                    25     78.81  160.96           11th        Never-married   \n",
              "2                    38     82.35  148.96        HS-grad   Married-civ-spouse   \n",
              "3                    28     46.30  149.62     Assoc-acdm   Married-civ-spouse   \n",
              "4                    44    107.85  146.28   Some-college   Married-civ-spouse   \n",
              "\n",
              "           Occupation    Race    Sex  Hours_per_week         Country   Target  \n",
              "0                 NaN     NaN    NaN             NaN             NaN      NaN  \n",
              "1   Machine-op-inspct   Black   Male            40.0   United-States   <=50K.  \n",
              "2     Farming-fishing   White   Male            50.0   United-States   <=50K.  \n",
              "3     Protective-serv   White   Male            40.0   United-States    >50K.  \n",
              "4   Machine-op-inspct   Black   Male            40.0   United-States    >50K.  "
            ],
            "text/html": [
              "\n",
              "  <div id=\"df-52bf9e0b-699a-477a-85ba-a829751a041e\">\n",
              "    <div class=\"colab-df-container\">\n",
              "      <div>\n",
              "<style scoped>\n",
              "    .dataframe tbody tr th:only-of-type {\n",
              "        vertical-align: middle;\n",
              "    }\n",
              "\n",
              "    .dataframe tbody tr th {\n",
              "        vertical-align: top;\n",
              "    }\n",
              "\n",
              "    .dataframe thead th {\n",
              "        text-align: right;\n",
              "    }\n",
              "</style>\n",
              "<table border=\"1\" class=\"dataframe\">\n",
              "  <thead>\n",
              "    <tr style=\"text-align: right;\">\n",
              "      <th></th>\n",
              "      <th>Age</th>\n",
              "      <th>Bodymass</th>\n",
              "      <th>Height</th>\n",
              "      <th>Education</th>\n",
              "      <th>Martial_Status</th>\n",
              "      <th>Occupation</th>\n",
              "      <th>Race</th>\n",
              "      <th>Sex</th>\n",
              "      <th>Hours_per_week</th>\n",
              "      <th>Country</th>\n",
              "      <th>Target</th>\n",
              "    </tr>\n",
              "  </thead>\n",
              "  <tbody>\n",
              "    <tr>\n",
              "      <th>0</th>\n",
              "      <td>|1x3 Cross validator</td>\n",
              "      <td>112.82</td>\n",
              "      <td>175.64</td>\n",
              "      <td>NaN</td>\n",
              "      <td>NaN</td>\n",
              "      <td>NaN</td>\n",
              "      <td>NaN</td>\n",
              "      <td>NaN</td>\n",
              "      <td>NaN</td>\n",
              "      <td>NaN</td>\n",
              "      <td>NaN</td>\n",
              "    </tr>\n",
              "    <tr>\n",
              "      <th>1</th>\n",
              "      <td>25</td>\n",
              "      <td>78.81</td>\n",
              "      <td>160.96</td>\n",
              "      <td>11th</td>\n",
              "      <td>Never-married</td>\n",
              "      <td>Machine-op-inspct</td>\n",
              "      <td>Black</td>\n",
              "      <td>Male</td>\n",
              "      <td>40.0</td>\n",
              "      <td>United-States</td>\n",
              "      <td>&lt;=50K.</td>\n",
              "    </tr>\n",
              "    <tr>\n",
              "      <th>2</th>\n",
              "      <td>38</td>\n",
              "      <td>82.35</td>\n",
              "      <td>148.96</td>\n",
              "      <td>HS-grad</td>\n",
              "      <td>Married-civ-spouse</td>\n",
              "      <td>Farming-fishing</td>\n",
              "      <td>White</td>\n",
              "      <td>Male</td>\n",
              "      <td>50.0</td>\n",
              "      <td>United-States</td>\n",
              "      <td>&lt;=50K.</td>\n",
              "    </tr>\n",
              "    <tr>\n",
              "      <th>3</th>\n",
              "      <td>28</td>\n",
              "      <td>46.30</td>\n",
              "      <td>149.62</td>\n",
              "      <td>Assoc-acdm</td>\n",
              "      <td>Married-civ-spouse</td>\n",
              "      <td>Protective-serv</td>\n",
              "      <td>White</td>\n",
              "      <td>Male</td>\n",
              "      <td>40.0</td>\n",
              "      <td>United-States</td>\n",
              "      <td>&gt;50K.</td>\n",
              "    </tr>\n",
              "    <tr>\n",
              "      <th>4</th>\n",
              "      <td>44</td>\n",
              "      <td>107.85</td>\n",
              "      <td>146.28</td>\n",
              "      <td>Some-college</td>\n",
              "      <td>Married-civ-spouse</td>\n",
              "      <td>Machine-op-inspct</td>\n",
              "      <td>Black</td>\n",
              "      <td>Male</td>\n",
              "      <td>40.0</td>\n",
              "      <td>United-States</td>\n",
              "      <td>&gt;50K.</td>\n",
              "    </tr>\n",
              "  </tbody>\n",
              "</table>\n",
              "</div>\n",
              "      <button class=\"colab-df-convert\" onclick=\"convertToInteractive('df-52bf9e0b-699a-477a-85ba-a829751a041e')\"\n",
              "              title=\"Convert this dataframe to an interactive table.\"\n",
              "              style=\"display:none;\">\n",
              "        \n",
              "  <svg xmlns=\"http://www.w3.org/2000/svg\" height=\"24px\"viewBox=\"0 0 24 24\"\n",
              "       width=\"24px\">\n",
              "    <path d=\"M0 0h24v24H0V0z\" fill=\"none\"/>\n",
              "    <path d=\"M18.56 5.44l.94 2.06.94-2.06 2.06-.94-2.06-.94-.94-2.06-.94 2.06-2.06.94zm-11 1L8.5 8.5l.94-2.06 2.06-.94-2.06-.94L8.5 2.5l-.94 2.06-2.06.94zm10 10l.94 2.06.94-2.06 2.06-.94-2.06-.94-.94-2.06-.94 2.06-2.06.94z\"/><path d=\"M17.41 7.96l-1.37-1.37c-.4-.4-.92-.59-1.43-.59-.52 0-1.04.2-1.43.59L10.3 9.45l-7.72 7.72c-.78.78-.78 2.05 0 2.83L4 21.41c.39.39.9.59 1.41.59.51 0 1.02-.2 1.41-.59l7.78-7.78 2.81-2.81c.8-.78.8-2.07 0-2.86zM5.41 20L4 18.59l7.72-7.72 1.47 1.35L5.41 20z\"/>\n",
              "  </svg>\n",
              "      </button>\n",
              "      \n",
              "  <style>\n",
              "    .colab-df-container {\n",
              "      display:flex;\n",
              "      flex-wrap:wrap;\n",
              "      gap: 12px;\n",
              "    }\n",
              "\n",
              "    .colab-df-convert {\n",
              "      background-color: #E8F0FE;\n",
              "      border: none;\n",
              "      border-radius: 50%;\n",
              "      cursor: pointer;\n",
              "      display: none;\n",
              "      fill: #1967D2;\n",
              "      height: 32px;\n",
              "      padding: 0 0 0 0;\n",
              "      width: 32px;\n",
              "    }\n",
              "\n",
              "    .colab-df-convert:hover {\n",
              "      background-color: #E2EBFA;\n",
              "      box-shadow: 0px 1px 2px rgba(60, 64, 67, 0.3), 0px 1px 3px 1px rgba(60, 64, 67, 0.15);\n",
              "      fill: #174EA6;\n",
              "    }\n",
              "\n",
              "    [theme=dark] .colab-df-convert {\n",
              "      background-color: #3B4455;\n",
              "      fill: #D2E3FC;\n",
              "    }\n",
              "\n",
              "    [theme=dark] .colab-df-convert:hover {\n",
              "      background-color: #434B5C;\n",
              "      box-shadow: 0px 1px 3px 1px rgba(0, 0, 0, 0.15);\n",
              "      filter: drop-shadow(0px 1px 2px rgba(0, 0, 0, 0.3));\n",
              "      fill: #FFFFFF;\n",
              "    }\n",
              "  </style>\n",
              "\n",
              "      <script>\n",
              "        const buttonEl =\n",
              "          document.querySelector('#df-52bf9e0b-699a-477a-85ba-a829751a041e button.colab-df-convert');\n",
              "        buttonEl.style.display =\n",
              "          google.colab.kernel.accessAllowed ? 'block' : 'none';\n",
              "\n",
              "        async function convertToInteractive(key) {\n",
              "          const element = document.querySelector('#df-52bf9e0b-699a-477a-85ba-a829751a041e');\n",
              "          const dataTable =\n",
              "            await google.colab.kernel.invokeFunction('convertToInteractive',\n",
              "                                                     [key], {});\n",
              "          if (!dataTable) return;\n",
              "\n",
              "          const docLinkHtml = 'Like what you see? Visit the ' +\n",
              "            '<a target=\"_blank\" href=https://colab.research.google.com/notebooks/data_table.ipynb>data table notebook</a>'\n",
              "            + ' to learn more about interactive tables.';\n",
              "          element.innerHTML = '';\n",
              "          dataTable['output_type'] = 'display_data';\n",
              "          await google.colab.output.renderOutput(dataTable, element);\n",
              "          const docLink = document.createElement('div');\n",
              "          docLink.innerHTML = docLinkHtml;\n",
              "          element.appendChild(docLink);\n",
              "        }\n",
              "      </script>\n",
              "    </div>\n",
              "  </div>\n",
              "  "
            ]
          },
          "metadata": {},
          "execution_count": 6
        }
      ],
      "source": [
        "# Se muestra la información de dataset\n",
        "df.head()"
      ]
    },
    {
      "cell_type": "code",
      "source": [
        "df.info()"
      ],
      "metadata": {
        "colab": {
          "base_uri": "https://localhost:8080/"
        },
        "id": "H_5Ceu_VaPrz",
        "outputId": "02a62781-a133-409f-c1f1-baa0ca1e3d40"
      },
      "execution_count": null,
      "outputs": [
        {
          "output_type": "stream",
          "name": "stdout",
          "text": [
            "<class 'pandas.core.frame.DataFrame'>\n",
            "RangeIndex: 16282 entries, 0 to 16281\n",
            "Data columns (total 11 columns):\n",
            " #   Column          Non-Null Count  Dtype  \n",
            "---  ------          --------------  -----  \n",
            " 0   Age             16282 non-null  object \n",
            " 1   Bodymass        16282 non-null  float64\n",
            " 2   Height          16282 non-null  float64\n",
            " 3   Education       16281 non-null  object \n",
            " 4   Martial_Status  16281 non-null  object \n",
            " 5   Occupation      15315 non-null  object \n",
            " 6   Race            16281 non-null  object \n",
            " 7   Sex             16281 non-null  object \n",
            " 8   Hours_per_week  16281 non-null  float64\n",
            " 9   Country         16007 non-null  object \n",
            " 10  Target          16281 non-null  object \n",
            "dtypes: float64(3), object(8)\n",
            "memory usage: 1.4+ MB\n"
          ]
        }
      ]
    },
    {
      "cell_type": "markdown",
      "source": [
        "**Se crea una copia de los datos del csv**"
      ],
      "metadata": {
        "id": "z_xpst1MqvUf"
      }
    },
    {
      "cell_type": "code",
      "source": [
        "train, test = train_test_split(df, test_size=0.45, random_state=45)\n",
        "\n",
        "dt_prueba = test.copy()\n",
        "dt_prueba.count()"
      ],
      "metadata": {
        "colab": {
          "base_uri": "https://localhost:8080/"
        },
        "id": "ENn4utMYquw8",
        "outputId": "f614d61f-ce36-489f-a296-785128a62f19"
      },
      "execution_count": null,
      "outputs": [
        {
          "output_type": "execute_result",
          "data": {
            "text/plain": [
              "Age               7327\n",
              "Bodymass          7327\n",
              "Height            7327\n",
              "Education         7326\n",
              "Martial_Status    7326\n",
              "Occupation        6890\n",
              "Race              7326\n",
              "Sex               7326\n",
              "Hours_per_week    7326\n",
              "Country           7201\n",
              "Target            7326\n",
              "dtype: int64"
            ]
          },
          "metadata": {},
          "execution_count": 8
        }
      ]
    },
    {
      "cell_type": "markdown",
      "metadata": {
        "id": "1hbHbaL8jdB_"
      },
      "source": [
        "## 1.- Limpieza de los datos ( NaN)\n",
        "    - Bonus: ¿Cuantas Filas se han eliminado después de la limpieza?\n",
        "\n"
      ]
    },
    {
      "cell_type": "markdown",
      "source": [
        "**se realiza la ejecucion del funcion isnull().suma(), para identificar la\n",
        "cantidad de NaN o datos nulos que hay en la información suministrada**"
      ],
      "metadata": {
        "id": "LnGECHw-i8aQ"
      }
    },
    {
      "cell_type": "code",
      "execution_count": null,
      "metadata": {
        "colab": {
          "base_uri": "https://localhost:8080/"
        },
        "id": "2DWCvLEDjdCA",
        "outputId": "60c5069d-c5ac-4020-8d7f-ef594affce6e"
      },
      "outputs": [
        {
          "output_type": "execute_result",
          "data": {
            "text/plain": [
              "Age                 0\n",
              "Bodymass            0\n",
              "Height              0\n",
              "Education           1\n",
              "Martial_Status      1\n",
              "Occupation        967\n",
              "Race                1\n",
              "Sex                 1\n",
              "Hours_per_week      1\n",
              "Country           275\n",
              "Target              1\n",
              "dtype: int64"
            ]
          },
          "metadata": {},
          "execution_count": 9
        }
      ],
      "source": [
        "df.isnull().sum()"
      ]
    },
    {
      "cell_type": "markdown",
      "source": [
        "\n",
        "\n",
        "*   Se evidencia que en la data inicial se tenian una cantidad de 16281 datos incuyendo los NaN.\n",
        "*   Despues de hacer la limpieza de datos NaN se evidencia que queda 15060 datos limpios.\n",
        "\n"
      ],
      "metadata": {
        "id": "ZIP9-o6z0dI4"
      }
    },
    {
      "cell_type": "code",
      "execution_count": null,
      "metadata": {
        "colab": {
          "base_uri": "https://localhost:8080/"
        },
        "id": "o1vvjouyjdCA",
        "outputId": "32b561f3-180a-4ee9-dd2b-a27cc66fd438"
      },
      "outputs": [
        {
          "output_type": "stream",
          "name": "stdout",
          "text": [
            "<class 'pandas.core.frame.DataFrame'>\n",
            "Int64Index: 6775 entries, 2267 to 1470\n",
            "Data columns (total 11 columns):\n",
            " #   Column          Non-Null Count  Dtype  \n",
            "---  ------          --------------  -----  \n",
            " 0   Age             6775 non-null   object \n",
            " 1   Bodymass        6775 non-null   float64\n",
            " 2   Height          6775 non-null   float64\n",
            " 3   Education       6775 non-null   object \n",
            " 4   Martial_Status  6775 non-null   object \n",
            " 5   Occupation      6775 non-null   object \n",
            " 6   Race            6775 non-null   object \n",
            " 7   Sex             6775 non-null   object \n",
            " 8   Hours_per_week  6775 non-null   float64\n",
            " 9   Country         6775 non-null   object \n",
            " 10  Target          6775 non-null   object \n",
            "dtypes: float64(3), object(8)\n",
            "memory usage: 635.2+ KB\n"
          ]
        }
      ],
      "source": [
        "# Se procede a eliminar los valores desaparecidos\n",
        "dt_prueba = dt_prueba.dropna()\n",
        "# Se obtiene información general from pandas.core.reshape.reshape import get_dummies de los dataframes\n",
        "dt_prueba.info()"
      ]
    },
    {
      "cell_type": "markdown",
      "source": [
        "**Análisis del Dataset indiceMasaCorporal.csv**\n",
        "*   se eliminan 1221 datos que no cumpian con la informacion necesario.\n",
        "* Se presentan 15060 registros\n",
        "* Se presentan datos del tipo *float64* y *object*, es decir, datos numéricos con decimales y categóricos\n",
        "* Se presentó en el dt_prueba datos desaparecidos, se toma la decisión de eliminar los datos NaN"
      ],
      "metadata": {
        "id": "l_LbfWz3sv88"
      }
    },
    {
      "cell_type": "markdown",
      "source": [
        "**se actualizó la columna de 'Sex' y se le borra los espacios dentro de la informacion.**"
      ],
      "metadata": {
        "id": "wBRpg_PjbTsA"
      }
    },
    {
      "cell_type": "code",
      "source": [
        "dt_prueba['Sex']= dt_prueba['Sex'].str.replace(' ','')\n",
        "#dt_prueba= dt_prueba.str.replace(' ','')"
      ],
      "metadata": {
        "id": "hcBW6TS_bTBx",
        "outputId": "408091cd-f4ba-4715-c913-0ef92e0540f9",
        "colab": {
          "base_uri": "https://localhost:8080/"
        }
      },
      "execution_count": null,
      "outputs": [
        {
          "output_type": "stream",
          "name": "stderr",
          "text": [
            "/usr/local/lib/python3.7/dist-packages/ipykernel_launcher.py:1: SettingWithCopyWarning: \n",
            "A value is trying to be set on a copy of a slice from a DataFrame.\n",
            "Try using .loc[row_indexer,col_indexer] = value instead\n",
            "\n",
            "See the caveats in the documentation: https://pandas.pydata.org/pandas-docs/stable/user_guide/indexing.html#returning-a-view-versus-a-copy\n",
            "  \"\"\"Entry point for launching an IPython kernel.\n"
          ]
        }
      ]
    },
    {
      "cell_type": "markdown",
      "source": [
        "* se realiza la eliminación de espacios en la columna 'Sex' para asi poder hacer mucho más fáciles la consulta, ya que estos espacios estaban generando errores en las consultas."
      ],
      "metadata": {
        "id": "m7DDEXxabcgl"
      }
    },
    {
      "cell_type": "code",
      "source": [
        "# Se convierte en float los datos de la columna 'Age' para poder dejar al\n",
        "dt_prueba.dropna(inplace=True)\n",
        "dt_prueba['Age'] = dt_prueba['Age'].astype(float)\n",
        "dt_prueba.info()\n",
        "dt_prueba.isnull().sum()\n",
        "dt_prueba.count()"
      ],
      "metadata": {
        "colab": {
          "base_uri": "https://localhost:8080/"
        },
        "id": "vMaVqZpPuVfo",
        "outputId": "bdebc8e4-8d81-4041-e6da-a1dff4ef915c"
      },
      "execution_count": null,
      "outputs": [
        {
          "output_type": "stream",
          "name": "stdout",
          "text": [
            "<class 'pandas.core.frame.DataFrame'>\n",
            "Int64Index: 6775 entries, 2267 to 1470\n",
            "Data columns (total 11 columns):\n",
            " #   Column          Non-Null Count  Dtype  \n",
            "---  ------          --------------  -----  \n",
            " 0   Age             6775 non-null   float64\n",
            " 1   Bodymass        6775 non-null   float64\n",
            " 2   Height          6775 non-null   float64\n",
            " 3   Education       6775 non-null   object \n",
            " 4   Martial_Status  6775 non-null   object \n",
            " 5   Occupation      6775 non-null   object \n",
            " 6   Race            6775 non-null   object \n",
            " 7   Sex             6775 non-null   object \n",
            " 8   Hours_per_week  6775 non-null   float64\n",
            " 9   Country         6775 non-null   object \n",
            " 10  Target          6775 non-null   object \n",
            "dtypes: float64(4), object(7)\n",
            "memory usage: 635.2+ KB\n"
          ]
        },
        {
          "output_type": "stream",
          "name": "stderr",
          "text": [
            "/usr/local/lib/python3.7/dist-packages/pandas/util/_decorators.py:311: SettingWithCopyWarning: \n",
            "A value is trying to be set on a copy of a slice from a DataFrame\n",
            "\n",
            "See the caveats in the documentation: https://pandas.pydata.org/pandas-docs/stable/user_guide/indexing.html#returning-a-view-versus-a-copy\n",
            "  return func(*args, **kwargs)\n",
            "/usr/local/lib/python3.7/dist-packages/ipykernel_launcher.py:3: SettingWithCopyWarning: \n",
            "A value is trying to be set on a copy of a slice from a DataFrame.\n",
            "Try using .loc[row_indexer,col_indexer] = value instead\n",
            "\n",
            "See the caveats in the documentation: https://pandas.pydata.org/pandas-docs/stable/user_guide/indexing.html#returning-a-view-versus-a-copy\n",
            "  This is separate from the ipykernel package so we can avoid doing imports until\n"
          ]
        },
        {
          "output_type": "execute_result",
          "data": {
            "text/plain": [
              "Age               6775\n",
              "Bodymass          6775\n",
              "Height            6775\n",
              "Education         6775\n",
              "Martial_Status    6775\n",
              "Occupation        6775\n",
              "Race              6775\n",
              "Sex               6775\n",
              "Hours_per_week    6775\n",
              "Country           6775\n",
              "Target            6775\n",
              "dtype: int64"
            ]
          },
          "metadata": {},
          "execution_count": 12
        }
      ]
    },
    {
      "cell_type": "code",
      "source": [
        "#Se pasa hacer el análisis de cuantos registros fueron eliminados\n",
        "df.info()\n",
        "print(\"----------------------------------------------\")\n",
        "dt_prueba.info()\n"
      ],
      "metadata": {
        "id": "Bf4NV3x_wBVO",
        "colab": {
          "base_uri": "https://localhost:8080/"
        },
        "outputId": "d7335b13-d3b9-4f5c-bd4e-2a799a51ea59"
      },
      "execution_count": null,
      "outputs": [
        {
          "output_type": "stream",
          "name": "stdout",
          "text": [
            "<class 'pandas.core.frame.DataFrame'>\n",
            "RangeIndex: 16282 entries, 0 to 16281\n",
            "Data columns (total 11 columns):\n",
            " #   Column          Non-Null Count  Dtype  \n",
            "---  ------          --------------  -----  \n",
            " 0   Age             16282 non-null  object \n",
            " 1   Bodymass        16282 non-null  float64\n",
            " 2   Height          16282 non-null  float64\n",
            " 3   Education       16281 non-null  object \n",
            " 4   Martial_Status  16281 non-null  object \n",
            " 5   Occupation      15315 non-null  object \n",
            " 6   Race            16281 non-null  object \n",
            " 7   Sex             16281 non-null  object \n",
            " 8   Hours_per_week  16281 non-null  float64\n",
            " 9   Country         16007 non-null  object \n",
            " 10  Target          16281 non-null  object \n",
            "dtypes: float64(3), object(8)\n",
            "memory usage: 1.4+ MB\n",
            "----------------------------------------------\n",
            "<class 'pandas.core.frame.DataFrame'>\n",
            "Int64Index: 6775 entries, 2267 to 1470\n",
            "Data columns (total 11 columns):\n",
            " #   Column          Non-Null Count  Dtype  \n",
            "---  ------          --------------  -----  \n",
            " 0   Age             6775 non-null   float64\n",
            " 1   Bodymass        6775 non-null   float64\n",
            " 2   Height          6775 non-null   float64\n",
            " 3   Education       6775 non-null   object \n",
            " 4   Martial_Status  6775 non-null   object \n",
            " 5   Occupation      6775 non-null   object \n",
            " 6   Race            6775 non-null   object \n",
            " 7   Sex             6775 non-null   object \n",
            " 8   Hours_per_week  6775 non-null   float64\n",
            " 9   Country         6775 non-null   object \n",
            " 10  Target          6775 non-null   object \n",
            "dtypes: float64(4), object(7)\n",
            "memory usage: 635.2+ KB\n"
          ]
        }
      ]
    },
    {
      "cell_type": "markdown",
      "metadata": {
        "id": "c172C5uljdCA"
      },
      "source": [
        "## 2.- Insertar columna que presente el Indice de Masa Corporal después de la columna 'height'\n",
        "[Enlace BMI](https://www.calculator.net/bmi-calculator.html)"
      ]
    },
    {
      "cell_type": "markdown",
      "metadata": {
        "id": "pHN3TMmkjdCA"
      },
      "source": [
        " $BMI = kg/(m^2)$"
      ]
    },
    {
      "cell_type": "markdown",
      "metadata": {
        "id": "DE8e6E90jdCB"
      },
      "source": [
        "<img src=\"./img/graff003.png\">"
      ]
    },
    {
      "cell_type": "code",
      "execution_count": null,
      "metadata": {
        "id": "CU1UBTD1jdCB",
        "colab": {
          "base_uri": "https://localhost:8080/"
        },
        "outputId": "a8776d01-a4f8-4fed-81f5-63e97c98c813"
      },
      "outputs": [
        {
          "output_type": "stream",
          "name": "stdout",
          "text": [
            "        Age  Bodymass  Height  Hours_per_week\n",
            "2267   41.0     98.92  187.77            40.0\n",
            "3636   23.0     51.55  172.68            44.0\n",
            "6746   42.0     84.41  132.04            40.0\n",
            "906    41.0     69.77  160.12            60.0\n",
            "4954   19.0     88.59  174.39            40.0\n",
            "...     ...       ...     ...             ...\n",
            "7828   26.0     74.92  144.85            48.0\n",
            "8297   42.0     62.70  164.79            65.0\n",
            "14175  46.0     87.59  156.46            40.0\n",
            "4895   37.0     94.74  135.68            40.0\n",
            "1470   40.0     54.09  133.64            40.0\n",
            "\n",
            "[6775 rows x 4 columns]\n"
          ]
        }
      ],
      "source": [
        "# Se hace revisión sobre los datos numéricos del df data\n",
        "atributos_numericos = dt_prueba.select_dtypes(include=['float64'])\n",
        "print(atributos_numericos)"
      ]
    },
    {
      "cell_type": "markdown",
      "source": [
        "*Se agrega a la data la columna de bmi con el indice de masa corporal al dataframe\n",
        "* se utiliza la formula de bmi para hacer dicho calculo\n"
      ],
      "metadata": {
        "id": "iOTmb3EvlrA-"
      }
    },
    {
      "cell_type": "code",
      "source": [
        "#se convierte de centimetros a metros la columna de altura\n",
        "dt_prueba[[\"Height\"]] = dt_prueba[[\"Height\"]]/100\n",
        "#dt_prueba.drop(['% BMI'], axis=1, inplace=True)\n",
        "dt_prueba.insert(loc = 3,\n",
        "          column = '% BMI',\n",
        "          value = (dt_prueba['Bodymass']/(dt_prueba['Height']*dt_prueba['Height'])))\n",
        "\n"
      ],
      "metadata": {
        "id": "99WkEiTGVZoi",
        "outputId": "8582eb4f-a6be-4384-907b-bdefde900cb0",
        "colab": {
          "base_uri": "https://localhost:8080/"
        }
      },
      "execution_count": null,
      "outputs": [
        {
          "output_type": "stream",
          "name": "stderr",
          "text": [
            "/usr/local/lib/python3.7/dist-packages/pandas/core/frame.py:3641: SettingWithCopyWarning: \n",
            "A value is trying to be set on a copy of a slice from a DataFrame.\n",
            "Try using .loc[row_indexer,col_indexer] = value instead\n",
            "\n",
            "See the caveats in the documentation: https://pandas.pydata.org/pandas-docs/stable/user_guide/indexing.html#returning-a-view-versus-a-copy\n",
            "  self[k1] = value[k2]\n"
          ]
        }
      ]
    },
    {
      "cell_type": "code",
      "source": [
        "# se muestra la informacion de años 'Age','Bodymass','Height','% BMI', para el resultado de lamasa corporal\n",
        "dt_prueba[['Age','Bodymass','Height','% BMI']]"
      ],
      "metadata": {
        "id": "LWLth4D0rko7",
        "colab": {
          "base_uri": "https://localhost:8080/",
          "height": 424
        },
        "outputId": "aded86a8-00e8-4135-ea4d-097d1c13ffcd"
      },
      "execution_count": null,
      "outputs": [
        {
          "output_type": "execute_result",
          "data": {
            "text/plain": [
              "        Age  Bodymass  Height      % BMI\n",
              "2267   41.0     98.92  1.8777  28.056384\n",
              "3636   23.0     51.55  1.7268  17.287993\n",
              "6746   42.0     84.41  1.3204  48.415327\n",
              "906    41.0     69.77  1.6012  27.213071\n",
              "4954   19.0     88.59  1.7439  29.130071\n",
              "...     ...       ...     ...        ...\n",
              "7828   26.0     74.92  1.4485  35.707609\n",
              "8297   42.0     62.70  1.6479  23.089038\n",
              "14175  46.0     87.59  1.5646  35.780621\n",
              "4895   37.0     94.74  1.3568  51.463783\n",
              "1470   40.0     54.09  1.3364  30.286149\n",
              "\n",
              "[6775 rows x 4 columns]"
            ],
            "text/html": [
              "\n",
              "  <div id=\"df-3189e659-5b90-4332-961e-e3e6fba93783\">\n",
              "    <div class=\"colab-df-container\">\n",
              "      <div>\n",
              "<style scoped>\n",
              "    .dataframe tbody tr th:only-of-type {\n",
              "        vertical-align: middle;\n",
              "    }\n",
              "\n",
              "    .dataframe tbody tr th {\n",
              "        vertical-align: top;\n",
              "    }\n",
              "\n",
              "    .dataframe thead th {\n",
              "        text-align: right;\n",
              "    }\n",
              "</style>\n",
              "<table border=\"1\" class=\"dataframe\">\n",
              "  <thead>\n",
              "    <tr style=\"text-align: right;\">\n",
              "      <th></th>\n",
              "      <th>Age</th>\n",
              "      <th>Bodymass</th>\n",
              "      <th>Height</th>\n",
              "      <th>% BMI</th>\n",
              "    </tr>\n",
              "  </thead>\n",
              "  <tbody>\n",
              "    <tr>\n",
              "      <th>2267</th>\n",
              "      <td>41.0</td>\n",
              "      <td>98.92</td>\n",
              "      <td>1.8777</td>\n",
              "      <td>28.056384</td>\n",
              "    </tr>\n",
              "    <tr>\n",
              "      <th>3636</th>\n",
              "      <td>23.0</td>\n",
              "      <td>51.55</td>\n",
              "      <td>1.7268</td>\n",
              "      <td>17.287993</td>\n",
              "    </tr>\n",
              "    <tr>\n",
              "      <th>6746</th>\n",
              "      <td>42.0</td>\n",
              "      <td>84.41</td>\n",
              "      <td>1.3204</td>\n",
              "      <td>48.415327</td>\n",
              "    </tr>\n",
              "    <tr>\n",
              "      <th>906</th>\n",
              "      <td>41.0</td>\n",
              "      <td>69.77</td>\n",
              "      <td>1.6012</td>\n",
              "      <td>27.213071</td>\n",
              "    </tr>\n",
              "    <tr>\n",
              "      <th>4954</th>\n",
              "      <td>19.0</td>\n",
              "      <td>88.59</td>\n",
              "      <td>1.7439</td>\n",
              "      <td>29.130071</td>\n",
              "    </tr>\n",
              "    <tr>\n",
              "      <th>...</th>\n",
              "      <td>...</td>\n",
              "      <td>...</td>\n",
              "      <td>...</td>\n",
              "      <td>...</td>\n",
              "    </tr>\n",
              "    <tr>\n",
              "      <th>7828</th>\n",
              "      <td>26.0</td>\n",
              "      <td>74.92</td>\n",
              "      <td>1.4485</td>\n",
              "      <td>35.707609</td>\n",
              "    </tr>\n",
              "    <tr>\n",
              "      <th>8297</th>\n",
              "      <td>42.0</td>\n",
              "      <td>62.70</td>\n",
              "      <td>1.6479</td>\n",
              "      <td>23.089038</td>\n",
              "    </tr>\n",
              "    <tr>\n",
              "      <th>14175</th>\n",
              "      <td>46.0</td>\n",
              "      <td>87.59</td>\n",
              "      <td>1.5646</td>\n",
              "      <td>35.780621</td>\n",
              "    </tr>\n",
              "    <tr>\n",
              "      <th>4895</th>\n",
              "      <td>37.0</td>\n",
              "      <td>94.74</td>\n",
              "      <td>1.3568</td>\n",
              "      <td>51.463783</td>\n",
              "    </tr>\n",
              "    <tr>\n",
              "      <th>1470</th>\n",
              "      <td>40.0</td>\n",
              "      <td>54.09</td>\n",
              "      <td>1.3364</td>\n",
              "      <td>30.286149</td>\n",
              "    </tr>\n",
              "  </tbody>\n",
              "</table>\n",
              "<p>6775 rows × 4 columns</p>\n",
              "</div>\n",
              "      <button class=\"colab-df-convert\" onclick=\"convertToInteractive('df-3189e659-5b90-4332-961e-e3e6fba93783')\"\n",
              "              title=\"Convert this dataframe to an interactive table.\"\n",
              "              style=\"display:none;\">\n",
              "        \n",
              "  <svg xmlns=\"http://www.w3.org/2000/svg\" height=\"24px\"viewBox=\"0 0 24 24\"\n",
              "       width=\"24px\">\n",
              "    <path d=\"M0 0h24v24H0V0z\" fill=\"none\"/>\n",
              "    <path d=\"M18.56 5.44l.94 2.06.94-2.06 2.06-.94-2.06-.94-.94-2.06-.94 2.06-2.06.94zm-11 1L8.5 8.5l.94-2.06 2.06-.94-2.06-.94L8.5 2.5l-.94 2.06-2.06.94zm10 10l.94 2.06.94-2.06 2.06-.94-2.06-.94-.94-2.06-.94 2.06-2.06.94z\"/><path d=\"M17.41 7.96l-1.37-1.37c-.4-.4-.92-.59-1.43-.59-.52 0-1.04.2-1.43.59L10.3 9.45l-7.72 7.72c-.78.78-.78 2.05 0 2.83L4 21.41c.39.39.9.59 1.41.59.51 0 1.02-.2 1.41-.59l7.78-7.78 2.81-2.81c.8-.78.8-2.07 0-2.86zM5.41 20L4 18.59l7.72-7.72 1.47 1.35L5.41 20z\"/>\n",
              "  </svg>\n",
              "      </button>\n",
              "      \n",
              "  <style>\n",
              "    .colab-df-container {\n",
              "      display:flex;\n",
              "      flex-wrap:wrap;\n",
              "      gap: 12px;\n",
              "    }\n",
              "\n",
              "    .colab-df-convert {\n",
              "      background-color: #E8F0FE;\n",
              "      border: none;\n",
              "      border-radius: 50%;\n",
              "      cursor: pointer;\n",
              "      display: none;\n",
              "      fill: #1967D2;\n",
              "      height: 32px;\n",
              "      padding: 0 0 0 0;\n",
              "      width: 32px;\n",
              "    }\n",
              "\n",
              "    .colab-df-convert:hover {\n",
              "      background-color: #E2EBFA;\n",
              "      box-shadow: 0px 1px 2px rgba(60, 64, 67, 0.3), 0px 1px 3px 1px rgba(60, 64, 67, 0.15);\n",
              "      fill: #174EA6;\n",
              "    }\n",
              "\n",
              "    [theme=dark] .colab-df-convert {\n",
              "      background-color: #3B4455;\n",
              "      fill: #D2E3FC;\n",
              "    }\n",
              "\n",
              "    [theme=dark] .colab-df-convert:hover {\n",
              "      background-color: #434B5C;\n",
              "      box-shadow: 0px 1px 3px 1px rgba(0, 0, 0, 0.15);\n",
              "      filter: drop-shadow(0px 1px 2px rgba(0, 0, 0, 0.3));\n",
              "      fill: #FFFFFF;\n",
              "    }\n",
              "  </style>\n",
              "\n",
              "      <script>\n",
              "        const buttonEl =\n",
              "          document.querySelector('#df-3189e659-5b90-4332-961e-e3e6fba93783 button.colab-df-convert');\n",
              "        buttonEl.style.display =\n",
              "          google.colab.kernel.accessAllowed ? 'block' : 'none';\n",
              "\n",
              "        async function convertToInteractive(key) {\n",
              "          const element = document.querySelector('#df-3189e659-5b90-4332-961e-e3e6fba93783');\n",
              "          const dataTable =\n",
              "            await google.colab.kernel.invokeFunction('convertToInteractive',\n",
              "                                                     [key], {});\n",
              "          if (!dataTable) return;\n",
              "\n",
              "          const docLinkHtml = 'Like what you see? Visit the ' +\n",
              "            '<a target=\"_blank\" href=https://colab.research.google.com/notebooks/data_table.ipynb>data table notebook</a>'\n",
              "            + ' to learn more about interactive tables.';\n",
              "          element.innerHTML = '';\n",
              "          dataTable['output_type'] = 'display_data';\n",
              "          await google.colab.output.renderOutput(dataTable, element);\n",
              "          const docLink = document.createElement('div');\n",
              "          docLink.innerHTML = docLinkHtml;\n",
              "          element.appendChild(docLink);\n",
              "        }\n",
              "      </script>\n",
              "    </div>\n",
              "  </div>\n",
              "  "
            ]
          },
          "metadata": {},
          "execution_count": 16
        }
      ]
    },
    {
      "cell_type": "markdown",
      "metadata": {
        "id": "XkLxOloRjdCB"
      },
      "source": [
        "## 3.- ¿Cuantos hombres y mujeres presentan BMI normal?\n",
        "\n",
        "    *------------------*------------*\n",
        "    |   Categoría      |  Rango BMI |\n",
        "    *------------------*------------*\n",
        "    | Delgadez severa  |    < 16    |\n",
        "    | Delgadez moderada|  16 - 17   |\n",
        "    | Delgadez leve    |  17 - 18,5 |\n",
        "    | Normal           |  18.5 - 25 |\n",
        "    | Sobrepeso        |  25 - 30   |\n",
        "    | Obesos Clase I   |  30 - 35   |\n",
        "    | Obesos Clase II  |  35 - 40   |\n",
        "    | Obesos Clase III |    > 40    |\n",
        "    *------------------*------------*"
      ]
    },
    {
      "cell_type": "code",
      "execution_count": null,
      "metadata": {
        "id": "oOfnNLzRjdCB",
        "colab": {
          "base_uri": "https://localhost:8080/"
        },
        "outputId": "823494ad-dda4-4fb0-ad33-24c550c98f06"
      },
      "outputs": [
        {
          "output_type": "stream",
          "name": "stdout",
          "text": [
            "las mujeres con Normal|18.5 - 25 son: 456 los hombres con con Normal|18.5 - 25 son: 967\n"
          ]
        }
      ],
      "source": [
        "normal_mujeres = dt_prueba[(dt_prueba['% BMI'] >= 18.5) & (dt_prueba['% BMI']<=25)  & (dt_prueba['Sex']=='Female') ]['% BMI'].count()\n",
        "normal_hombres = dt_prueba[(dt_prueba['% BMI'] >= 18.5) & (dt_prueba['% BMI']<=25)  & (dt_prueba['Sex']=='Male') ]['% BMI'].count()\n",
        "print('las mujeres con Normal|18.5 - 25 son:',normal_mujeres,'los hombres con con Normal|18.5 - 25 son:',normal_hombres)\n"
      ]
    },
    {
      "cell_type": "code",
      "source": [
        "dt_prueba[(dt_prueba['% BMI'] >= 18.5) & (dt_prueba['% BMI']<=25)]['% BMI'].count()"
      ],
      "metadata": {
        "colab": {
          "base_uri": "https://localhost:8080/"
        },
        "id": "X8CKdta5qBDI",
        "outputId": "30f7008c-845b-4fb7-85f6-763b207d44e3"
      },
      "execution_count": null,
      "outputs": [
        {
          "output_type": "execute_result",
          "data": {
            "text/plain": [
              "1423"
            ]
          },
          "metadata": {},
          "execution_count": 18
        }
      ]
    },
    {
      "cell_type": "markdown",
      "source": [
        "* se evidencia que hay 3.164 personas entre hombre y mujeres, con un indice de mas corporal normal"
      ],
      "metadata": {
        "id": "1X_Ur9po97hp"
      }
    },
    {
      "cell_type": "markdown",
      "source": [
        "## 4.-¿Cuantos hombres y mujeres presentan BMI obesos clase 3?\n"
      ],
      "metadata": {
        "id": "05zML3nLDJwe"
      }
    },
    {
      "cell_type": "code",
      "source": [
        "clase3_mujeres = dt_prueba[(dt_prueba['% BMI'] >= 40) & (dt_prueba['Sex']=='Female')]['% BMI'].count()\n",
        "clase3_hombres = dt_prueba[(dt_prueba['% BMI'] >= 40) & (dt_prueba['Sex']=='Male')]['% BMI'].count()\n",
        "\n",
        "print('las mujeres con BMI Obesos Clase II |35 - 40 son:',clase3_mujeres,'los hombres con BMI Obesos Clase II |35 - 40 son:',clase3_hombres)\n"
      ],
      "metadata": {
        "colab": {
          "base_uri": "https://localhost:8080/"
        },
        "id": "Oe9O9HcZ_VDh",
        "outputId": "bb0fffbc-a20b-4ee6-a2e5-c1149536ba0d"
      },
      "execution_count": null,
      "outputs": [
        {
          "output_type": "stream",
          "name": "stdout",
          "text": [
            "las mujeres con BMI Obesos Clase II |35 - 40 son: 483 los hombres con BMI Obesos Clase II |35 - 40 son: 955\n"
          ]
        }
      ]
    },
    {
      "cell_type": "code",
      "source": [
        "dt_prueba[dt_prueba['% BMI'] >= 40]['% BMI'].count()"
      ],
      "metadata": {
        "colab": {
          "base_uri": "https://localhost:8080/"
        },
        "id": "BCkODmg_BrmP",
        "outputId": "60e6c97b-aed3-4792-9303-8bc8b7883f99"
      },
      "execution_count": null,
      "outputs": [
        {
          "output_type": "execute_result",
          "data": {
            "text/plain": [
              "1438"
            ]
          },
          "metadata": {},
          "execution_count": 20
        }
      ]
    },
    {
      "cell_type": "markdown",
      "source": [
        "* Se evidencia que hay 3279 personas que tienen un indice de masa corporal \"obsesos clase III\""
      ],
      "metadata": {
        "id": "l7du-qFB_lyp"
      }
    },
    {
      "cell_type": "markdown",
      "metadata": {
        "id": "jg6cN0hZjdCC"
      },
      "source": [
        "## 5.- ¿Cual es la edad promedio de las mujeres en el DataFrame?"
      ]
    },
    {
      "cell_type": "code",
      "source": [
        "promedio_mujeres = dt_prueba[dt_prueba['Sex']=='Female']['Age'].mean()\n",
        "print(\"La edad promedio de las mujeres:{\",promedio_mujeres,\"}\" )"
      ],
      "metadata": {
        "colab": {
          "base_uri": "https://localhost:8080/"
        },
        "id": "Np2bi35JE8KU",
        "outputId": "0ce7c59c-9cfe-4288-f15a-973196fdbf65"
      },
      "execution_count": null,
      "outputs": [
        {
          "output_type": "stream",
          "name": "stdout",
          "text": [
            "La edad promedio de las mujeres:{ 36.96880733944954 }\n"
          ]
        }
      ]
    },
    {
      "cell_type": "markdown",
      "source": [
        "*La edad promedio de las mujeres esta entre los 37.1864"
      ],
      "metadata": {
        "id": "ktpalxsHKBSI"
      }
    },
    {
      "cell_type": "markdown",
      "metadata": {
        "id": "U8kHkuwNjdCC"
      },
      "source": [
        "## 6.-  ¿Es verdad que las personas del DataFrame del pais ' United-States', en promedio se encuentran en 'Sobre Peso'?\n",
        "      - Bonus -->  ¿En que categoria 'BMI' se encuentran en promedio por 'Sex' las personas del DataFrame?\n",
        "    *------------------*------------*\n",
        "    |   Categoría      |  Rango BMI |\n",
        "    *------------------*------------*\n",
        "    | Delgadez severa  |    < 16    |\n",
        "    | Delgadez moderada|  16 - 17   |\n",
        "    | Delgadez leve    |  17 - 18,5 |\n",
        "    | Normal           |  18.5 - 25 |\n",
        "    | Sobrepeso        |  25 - 30   |\n",
        "    | Obesos Clase I   |  30 - 35   |\n",
        "    | Obesos Clase II  |  35 - 40   |\n",
        "    | Obesos Clase III |    > 40    |\n",
        "    *------------------*------------*"
      ]
    },
    {
      "cell_type": "code",
      "execution_count": null,
      "metadata": {
        "id": "nm8U6PTujdCC",
        "colab": {
          "base_uri": "https://localhost:8080/"
        },
        "outputId": "290819e7-b447-4a44-8d18-559ff5ac45b2"
      },
      "outputs": [
        {
          "output_type": "stream",
          "name": "stdout",
          "text": [
            "Las personas de 'United-States', en promedio se encuentran:{ 31.492274583742358 }, para los hombres en promedio se encuentran:{ 31.33846933156394 },para las mujeres en promedio se encuentran: 31.81836982175123\n"
          ]
        }
      ],
      "source": [
        "prd_US = dt_prueba[dt_prueba['Country']==' United-States']['% BMI'].mean()\n",
        "prod_Male = dt_prueba[dt_prueba['Sex']=='Male']['% BMI'].mean()\n",
        "prod_famale = dt_prueba[dt_prueba['Sex']=='Female']['% BMI'].mean()\n",
        "print(\"Las personas de 'United-States', en promedio se encuentran:{\",prd_US,\"}, para los hombres en promedio se encuentran:{\",prod_Male,\"},para las mujeres en promedio se encuentran:\",prod_famale)"
      ]
    },
    {
      "cell_type": "markdown",
      "source": [
        "\n",
        "1.   Las personas de 'United-States', en promedio se encuentran en un\n",
        "indice de masa corporal de 31.666, que equivale a estar una categoria de Obesos Clase I\n",
        "2.   Para los hombres en promedio se encuentran en un indici de masa corporal con un indece de 31.5643, segun este dato se encuentran en un idice nivel 'Clase obeso I'\n",
        "3. Para los mujeres en promedio se encuentran en un indice de masa corporal con un indece de 31.5643, segun este dato se encuentran en un idice nivel 'Clase obeso I'\n",
        "\n"
      ],
      "metadata": {
        "id": "QT_1e-FIIs3j"
      }
    },
    {
      "cell_type": "markdown",
      "source": [
        "## 7.-  ¿Cuál es el promedio de la masa corporal del país ‘Colombia’?"
      ],
      "metadata": {
        "id": "W-7FVoDXEVWu"
      }
    },
    {
      "cell_type": "code",
      "source": [
        "prd_COL = dt_prueba[dt_prueba['Country']==' Columbia']['Bodymass'].mean()\n",
        "print(\"Las personas de Colombia tienen un promedio de masa corporal de\", prd_COL)"
      ],
      "metadata": {
        "colab": {
          "base_uri": "https://localhost:8080/"
        },
        "id": "jHMMh3joEaSu",
        "outputId": "525fc133-66ba-4e81-d997-33d9097a0a41"
      },
      "execution_count": null,
      "outputs": [
        {
          "output_type": "stream",
          "name": "stdout",
          "text": [
            "Las personas de Colombia tienen un promedio de masa corporal de 84.90181818181817\n"
          ]
        }
      ]
    },
    {
      "cell_type": "markdown",
      "source": [
        "\n",
        "\n",
        "*   Las personas de Colombia tienen un promedio de masa corporal de 82.72576923076923\n",
        "\n",
        "\n"
      ],
      "metadata": {
        "id": "FRZsAMUmspuy"
      }
    },
    {
      "cell_type": "markdown",
      "metadata": {
        "id": "A-37eF37F-Ye"
      },
      "source": [
        "## 8.- ¿Cuál es la categoría BMI que presenta el país ‘Colombia’ en promedio?\n",
        "      \n",
        "    *------------------*------------*\n",
        "    |   Categoría      |  Rango BMI |\n",
        "    *------------------*------------*\n",
        "    | Delgadez severa  |    < 16    |\n",
        "    | Delgadez moderada|  16 - 17   |\n",
        "    | Delgadez leve    |  17 - 18,5 |\n",
        "    | Normal           |  18.5 - 25 |\n",
        "    | Sobrepeso        |  25 - 30   |\n",
        "    | Obesos Clase I   |  30 - 35   |\n",
        "    | Obesos Clase II  |  35 - 40   |\n",
        "    | Obesos Clase III |    > 40    |\n",
        "    *------------------*------------*"
      ]
    },
    {
      "cell_type": "code",
      "source": [
        "prd_COL = dt_prueba[dt_prueba['Country']==' Columbia']['% BMI'].mean()\n",
        "print(\"Las personas de Colombia tienen un promedio de % BMI corporal de\", prd_COL)"
      ],
      "metadata": {
        "colab": {
          "base_uri": "https://localhost:8080/"
        },
        "id": "FP-VKOf0tJHk",
        "outputId": "b6949f4a-aba4-4b65-f911-7838b1192809"
      },
      "execution_count": null,
      "outputs": [
        {
          "output_type": "stream",
          "name": "stdout",
          "text": [
            "Las personas de Colombia tienen un promedio de % BMI corporal de 35.16173430690089\n"
          ]
        }
      ]
    },
    {
      "cell_type": "markdown",
      "source": [
        "Según la anterior tabla con el promedio de masa corporal de 34.33, se deduce que la categoría que representa el BMI de Colombia es \"Obesos Clase I\""
      ],
      "metadata": {
        "id": "Zcvk-VAcGEjo"
      }
    },
    {
      "cell_type": "markdown",
      "metadata": {
        "id": "woVlNkhOjdCC"
      },
      "source": [
        "## 9.- Calcule el promedio y la desviación estandar de la edad, en las siguentes categorias ['BMI']:\n",
        "        - La edad promedio y su desviación de categoría Delgadez Severa: {mean} +- {std} años.\n",
        "        - La edad promedio y su desviación de categoría Obesos Clase II: {mean} +- {std} años.\n",
        "        - La edad promedio y su desviación de categoría Obesos Clase III: {mean} +- {std} años."
      ]
    },
    {
      "cell_type": "code",
      "execution_count": null,
      "metadata": {
        "id": "iVybILSjjdCC",
        "colab": {
          "base_uri": "https://localhost:8080/",
          "height": 334
        },
        "outputId": "de70bf8c-b230-4b51-fe05-f9dd86e74434"
      },
      "outputs": [
        {
          "output_type": "stream",
          "name": "stdout",
          "text": [
            "la edad promedio es: 39.95751633986928 la desvicion estandar es: 13.521379272018256 de categoría Delgadez Severa\n",
            "\n",
            " --------------------------------------------------------------------------------------------------------------------\n"
          ]
        },
        {
          "output_type": "execute_result",
          "data": {
            "text/plain": [
              "<matplotlib.lines.Line2D at 0x7fdaa6e0f190>"
            ]
          },
          "metadata": {},
          "execution_count": 25
        },
        {
          "output_type": "display_data",
          "data": {
            "text/plain": [
              "<Figure size 432x288 with 1 Axes>"
            ],
            "image/png": "[encoded data removed]"
          },
          "metadata": {
            "needs_background": "light"
          }
        }
      ],
      "source": [
        "# - La edad promedio y su desviación de categoría Delgadez Severa: {mean} +- {std} años.\n",
        "\n",
        "edad_promedio_Delgadez = dt_prueba[dt_prueba['% BMI'] < 16]['Age'].mean()\n",
        "desviacion_estandar_Delgadez = dt_prueba[dt_prueba['% BMI'] < 16]['Age'].std()\n",
        "print(\"la edad promedio es:\",edad_promedio_Delgadez,\"la desvicion estandar es:\",desviacion_estandar_Delgadez,\"de categoría Delgadez Severa\")\n",
        "print(\"\\n --------------------------------------------------------------------------------------------------------------------\")\n",
        "plt.hist(dt_prueba['Age'])\n",
        "plt.axvline(edad_promedio_Delgadez,color='red')\n",
        "plt.axvline(desviacion_estandar_Delgadez,color='blue')"
      ]
    },
    {
      "cell_type": "code",
      "execution_count": null,
      "metadata": {
        "id": "LEv1DgIujdCC",
        "colab": {
          "base_uri": "https://localhost:8080/",
          "height": 334
        },
        "outputId": "15514192-2c77-45f5-9047-e0ab5d7bc61f"
      },
      "outputs": [
        {
          "output_type": "stream",
          "name": "stdout",
          "text": [
            "la edad promedio es: 39.63930348258707 la desvicion estandar es: 13.377803497337954 de categoría obesidad clase II\n",
            "\n",
            " --------------------------------------------------------------------------------------------------------------------\n"
          ]
        },
        {
          "output_type": "execute_result",
          "data": {
            "text/plain": [
              "<matplotlib.lines.Line2D at 0x7fdaa4118410>"
            ]
          },
          "metadata": {},
          "execution_count": 26
        },
        {
          "output_type": "display_data",
          "data": {
            "text/plain": [
              "<Figure size 432x288 with 1 Axes>"
            ],
            "image/png": "[encoded data removed]"
          },
          "metadata": {
            "needs_background": "light"
          }
        }
      ],
      "source": [
        "# - La edad promedio y su desviación de categoría Obesos Clase II: {mean} +- {std} años.\n",
        "edad_promedio_Clase_II = dt_prueba[(dt_prueba['% BMI'] >= 35) & (dt_prueba['% BMI']<=40)]['Age'].mean()\n",
        "desviacion_estandar_Clase_II = dt_prueba[(dt_prueba['% BMI'] >= 35) & (dt_prueba['% BMI']<=40)]['Age'].std()\n",
        "print(\"la edad promedio es:\",edad_promedio_Clase_II,\"la desvicion estandar es:\",desviacion_estandar_Clase_II,\"de categoría obesidad clase II\")\n",
        "print(\"\\n --------------------------------------------------------------------------------------------------------------------\")\n",
        "plt.hist(dt_prueba['Age'])\n",
        "plt.axvline(edad_promedio_Clase_II,color='red')\n",
        "plt.axvline(desviacion_estandar_Clase_II,color='blue')"
      ]
    },
    {
      "cell_type": "code",
      "source": [
        "# - La edad promedio y su desviación de categoría Obesos Clase III: {mean} +- {std} años.\n",
        "\n",
        "edad_promedio_Clase_III = dt_prueba[dt_prueba['% BMI'] > 40]['Age'].mean()\n",
        "desviacion_estandar_Clase_III = dt_prueba[dt_prueba['% BMI'] > 40]['Age'].std()\n",
        "print(\"la edad promedio es:\",edad_promedio_Clase_III,\"la desvicion estandar es:\",desviacion_estandar_Clase_III,\"de categoría obesidad clase III\")\n",
        "print(\"\\n --------------------------------------------------------------------------------------------------------------------\")\n",
        "plt.hist(dt_prueba['Age'])\n",
        "plt.axvline(edad_promedio_Clase_III,color='red')\n",
        "plt.axvline(desviacion_estandar_Clase_III,color='blue')"
      ],
      "metadata": {
        "colab": {
          "base_uri": "https://localhost:8080/",
          "height": 334
        },
        "id": "o4rhzXQ-S7KK",
        "outputId": "e784d851-754b-4a52-8812-b9446cdf540e"
      },
      "execution_count": null,
      "outputs": [
        {
          "output_type": "stream",
          "name": "stdout",
          "text": [
            "la edad promedio es: 38.508344923504865 la desvicion estandar es: 13.198432032433454 de categoría obesidad clase III\n",
            "\n",
            " --------------------------------------------------------------------------------------------------------------------\n"
          ]
        },
        {
          "output_type": "execute_result",
          "data": {
            "text/plain": [
              "<matplotlib.lines.Line2D at 0x7fdaa40388d0>"
            ]
          },
          "metadata": {},
          "execution_count": 27
        },
        {
          "output_type": "display_data",
          "data": {
            "text/plain": [
              "<Figure size 432x288 with 1 Axes>"
            ],
            "image/png": "[encoded data removed]"
          },
          "metadata": {
            "needs_background": "light"
          }
        }
      ]
    },
    {
      "cell_type": "markdown",
      "metadata": {
        "id": "Th1LzzgJjdCC"
      },
      "source": [
        "## 10.- De las personas de más edad en el Dataframe:\n",
        "    - ¿Cuantas mujeres aparecen, que grado de educación y que estado civil tienen?\n",
        "    - ¿Es cierto que son todas del pais 'United-States'?"
      ]
    },
    {
      "cell_type": "markdown",
      "source": [
        "**Edad promedio de toda la data_prueba**"
      ],
      "metadata": {
        "id": "btfy6IYBuHOj"
      }
    },
    {
      "cell_type": "code",
      "source": [
        "dt_prueba['Age'].mean()"
      ],
      "metadata": {
        "id": "J-Xk0quJ0256",
        "colab": {
          "base_uri": "https://localhost:8080/"
        },
        "outputId": "69f6fb36-f1bb-474d-a27c-d923bbb25402"
      },
      "execution_count": null,
      "outputs": [
        {
          "output_type": "execute_result",
          "data": {
            "text/plain": [
              "38.73608856088561"
            ]
          },
          "metadata": {},
          "execution_count": 28
        }
      ]
    },
    {
      "cell_type": "markdown",
      "source": [
        "**10.1.- ¿Cuántas mujeres aparecen, que grado de educación y que estado civil tienen?**"
      ],
      "metadata": {
        "id": "A-Fk3pWAuNC2"
      }
    },
    {
      "cell_type": "code",
      "execution_count": null,
      "metadata": {
        "id": "vGuLPLFfjdCD",
        "colab": {
          "base_uri": "https://localhost:8080/"
        },
        "outputId": "596b7539-75be-430e-e17a-16b82e096acb"
      },
      "outputs": [
        {
          "output_type": "stream",
          "name": "stdout",
          "text": [
            "la cantidad de gente mayor a la edad media es :\n",
            " 894\n",
            "--------------------------------------------------------------------\n",
            "Las Ocupaciones son:  [' Adm-clerical' ' Other-service' ' Prof-specialty' ' Sales'\n",
            " ' Exec-managerial' ' Machine-op-inspct' ' Farming-fishing'\n",
            " ' Priv-house-serv' ' Tech-support' ' Craft-repair' ' Handlers-cleaners'\n",
            " ' Transport-moving' ' Protective-serv']\n",
            "--------------------------------------------------------------------\n",
            "El estado civil son:  [' Married-civ-spouse' ' Divorced' ' Widowed' ' Separated'\n",
            " ' Never-married' ' Married-spouse-absent']\n",
            "--------------------------------------------------------------------\n",
            "Las ciudades son:  [' Italy' ' United-States' ' Cuba' ' Columbia' ' Yugoslavia' ' Jamaica'\n",
            " ' Mexico' ' China' ' El-Salvador' ' Philippines' ' Germany'\n",
            " ' Puerto-Rico' ' Poland' ' Dominican-Republic' ' Ecuador' ' Haiti'\n",
            " ' Outlying-US(Guam-USVI-etc)' ' Canada' ' India' ' England' ' Scotland'\n",
            " ' Thailand' ' Nicaragua' ' Vietnam' ' Japan' ' Honduras']\n",
            "--------------------------------------------------------------------\n"
          ]
        }
      ],
      "source": [
        "# se muestra las edades mayores al promedio de la edad\n",
        "cantidad_mayores = dt_prueba[(dt_prueba['Age'] > 38) & (dt_prueba['Sex']=='Female')]['Sex'].count()\n",
        "print('la cantidad de gente mayor a la edad media es :\\n',cantidad_mayores)\n",
        "ocupacion = pd.unique(dt_prueba[(dt_prueba['Age'] > 38) & (dt_prueba['Sex']=='Female')]['Occupation'])\n",
        "estado_civil = pd.unique(dt_prueba[(dt_prueba['Age'] >= 38) & (dt_prueba['Sex']=='Female')]['Martial_Status'])\n",
        "country = pd.unique(dt_prueba[(dt_prueba['Age'] > 38) & (dt_prueba['Sex']=='Female')]['Country'])\n",
        "print('--------------------------------------------------------------------')\n",
        "print('Las Ocupaciones son: ',ocupacion)\n",
        "print('--------------------------------------------------------------------')\n",
        "print('El estado civil son: ',estado_civil)\n",
        "print('--------------------------------------------------------------------')\n",
        "print('Las ciudades son: ',country)\n",
        "print('--------------------------------------------------------------------')"
      ]
    },
    {
      "cell_type": "markdown",
      "source": [
        "  * Se encuentran '2047' mujeres mayores de la media de los 'Age'"
      ],
      "metadata": {
        "id": "-DVZAZzleQxg"
      }
    },
    {
      "cell_type": "code",
      "source": [
        "cantidad_60 = dt_prueba[(dt_prueba['Age'] > 60) & (dt_prueba['Sex']=='Female')]['Sex'].count()\n",
        "print('la catidad de gente mayores de la edad de 60 es :',cantidad_60)\n",
        "Ocupacion = pd.unique(dt_prueba[(dt_prueba['Age'] >= 60) & (dt_prueba['Sex']=='Female')]['Occupation'])\n",
        "estado_civil = pd.unique(dt_prueba[(dt_prueba['Age'] >= 60) & (dt_prueba['Sex']=='Female')]['Martial_Status'])\n",
        "ciudad = pd.unique(dt_prueba[(dt_prueba['Age'] >= 60) & (dt_prueba['Sex']=='Female') & (dt_prueba['Country']!= '')]['Country'])\n",
        "\n",
        "print('--------------------------------------------------------------------')\n",
        "print('Las Ocupaciones son: ',Ocupacion)\n",
        "print('--------------------------------------------------------------------')\n",
        "print('El estado civil son: ',estado_civil)\n",
        "print('--------------------------------------------------------------------')\n",
        "print('Las ciudades son: ',country)\n",
        "print('--------------------------------------------------------------------')\n",
        "\n",
        "\n"
      ],
      "metadata": {
        "colab": {
          "base_uri": "https://localhost:8080/"
        },
        "id": "Rt3EQQA0YZHb",
        "outputId": "e93bdd30-77ac-4f9c-afe0-4eceec48f9d4"
      },
      "execution_count": null,
      "outputs": [
        {
          "output_type": "stream",
          "name": "stdout",
          "text": [
            "la catidad de gente mayores de la edad de 60 es : 155\n",
            "--------------------------------------------------------------------\n",
            "Las Ocupaciones son:  [' Sales' ' Other-service' ' Adm-clerical' ' Exec-managerial'\n",
            " ' Priv-house-serv' ' Prof-specialty' ' Craft-repair' ' Tech-support'\n",
            " ' Handlers-cleaners' ' Machine-op-inspct' ' Transport-moving'\n",
            " ' Protective-serv']\n",
            "--------------------------------------------------------------------\n",
            "El estado civil son:  [' Widowed' ' Divorced' ' Never-married' ' Married-civ-spouse'\n",
            " ' Married-spouse-absent' ' Separated']\n",
            "--------------------------------------------------------------------\n",
            "Las ciudades son:  [' Italy' ' United-States' ' Cuba' ' Columbia' ' Yugoslavia' ' Jamaica'\n",
            " ' Mexico' ' China' ' El-Salvador' ' Philippines' ' Germany'\n",
            " ' Puerto-Rico' ' Poland' ' Dominican-Republic' ' Ecuador' ' Haiti'\n",
            " ' Outlying-US(Guam-USVI-etc)' ' Canada' ' India' ' England' ' Scotland'\n",
            " ' Thailand' ' Nicaragua' ' Vietnam' ' Japan' ' Honduras']\n",
            "--------------------------------------------------------------------\n"
          ]
        }
      ]
    },
    {
      "cell_type": "markdown",
      "source": [
        "\n",
        "  * Se encuentran '388' mujeres mayores de 60 años\n",
        "  la catidad de gente mayores de la edad de 60 es : 345\n",
        "  * se evidencia en los dos casos que no todas las mujeres son de ' United-States'\n"
      ],
      "metadata": {
        "id": "YPnF7t4cJ2fC"
      }
    },
    {
      "cell_type": "markdown",
      "metadata": {
        "id": "BicRYPk7jdCD"
      },
      "source": [
        "## 11.- Grafique la Edad por Ocupación (por Genero)\n",
        "    --> BONUS: Mencione al menos 3 (tres) observaciones obtenidas de la gráfica"
      ]
    },
    {
      "cell_type": "code",
      "source": [
        "dt_prueba.info()"
      ],
      "metadata": {
        "colab": {
          "base_uri": "https://localhost:8080/"
        },
        "id": "WpDrXZkD85mR",
        "outputId": "e8111da1-c14a-4df8-d757-365272fe3f32"
      },
      "execution_count": null,
      "outputs": [
        {
          "output_type": "stream",
          "name": "stdout",
          "text": [
            "<class 'pandas.core.frame.DataFrame'>\n",
            "Int64Index: 6775 entries, 2267 to 1470\n",
            "Data columns (total 12 columns):\n",
            " #   Column          Non-Null Count  Dtype  \n",
            "---  ------          --------------  -----  \n",
            " 0   Age             6775 non-null   float64\n",
            " 1   Bodymass        6775 non-null   float64\n",
            " 2   Height          6775 non-null   float64\n",
            " 3   % BMI           6775 non-null   float64\n",
            " 4   Education       6775 non-null   object \n",
            " 5   Martial_Status  6775 non-null   object \n",
            " 6   Occupation      6775 non-null   object \n",
            " 7   Race            6775 non-null   object \n",
            " 8   Sex             6775 non-null   object \n",
            " 9   Hours_per_week  6775 non-null   float64\n",
            " 10  Country         6775 non-null   object \n",
            " 11  Target          6775 non-null   object \n",
            "dtypes: float64(5), object(7)\n",
            "memory usage: 688.1+ KB\n"
          ]
        }
      ]
    },
    {
      "cell_type": "code",
      "source": [
        "ax = sns.barplot(data=dt_prueba,x=dt_prueba['Occupation'],y=dt_prueba['Age'], hue=dt_prueba['Sex'])\n",
        "ax.figure.set_size_inches(25,4)\n",
        "ax.set_title('Edad')\n",
        "ax.set_xlabel('Ocupacion')\n",
        "ax.set_ylabel('total de edades')\n",
        "plt.grid()"
      ],
      "metadata": {
        "colab": {
          "base_uri": "https://localhost:8080/",
          "height": 244
        },
        "id": "XpQU5sHG7xRK",
        "outputId": "fe668560-bd83-463b-e544-3553dfafe595"
      },
      "execution_count": null,
      "outputs": [
        {
          "output_type": "display_data",
          "data": {
            "text/plain": [
              "<Figure size 1800x288 with 1 Axes>"
            ],
            "image/png": "[encoded data removed]"
          },
          "metadata": {
            "needs_background": "light"
          }
        }
      ]
    },
    {
      "cell_type": "code",
      "execution_count": null,
      "metadata": {
        "id": "jYd-k0KKjdCD",
        "colab": {
          "base_uri": "https://localhost:8080/"
        },
        "outputId": "166573bb-fec8-4037-8d40-6401149bf56b"
      },
      "outputs": [
        {
          "output_type": "stream",
          "name": "stdout",
          "text": [
            "Index(['Education', 'Martial_Status', 'Occupation', 'Race', 'Sex', 'Country',\n",
            "       'Target'],\n",
            "      dtype='object')\n"
          ]
        }
      ],
      "source": [
        "#df.groupby([\"Occupation\"]).hist()\n",
        "# Se hace revisión sobre los datos categóricos del df test\n",
        "atributos_categoricos_test = dt_prueba.select_dtypes(include=['object'])\n",
        "print(atributos_categoricos_test.columns)\n"
      ]
    },
    {
      "cell_type": "markdown",
      "metadata": {
        "id": "1khDgBHZjdCD"
      },
      "source": [
        "## 12.-  Describa al menos 5 conclusiones sobre la gráfica del punto 11."
      ]
    },
    {
      "cell_type": "markdown",
      "source": [
        "* según la tabla se puede evidenciar que en la mayoría de ocupaciones hay más hombres que mujeres, siendo esto en 8 ocupaciones en las 14 totales.\n",
        "* Se nota que tanto en hombres como en mujeres, el límite de edad de trabajadores esta en el rango de 30 a 40 años.\n",
        "* Se observa que en la ocupación 'Armed-Forces' o fuerzas armadas solo hay hombres.\n",
        "* Los hombres pertenecientes a las fuerzas armadas son los trabajadores de menor edad.\n",
        "* Las mujeres pertenecientes a 'Priv-house-serv' o servicio de privado de casas son, tanto en hombres como en mujeres, los trabajadores con mayor edad."
      ],
      "metadata": {
        "id": "6SzAkaRiPPWM"
      }
    },
    {
      "cell_type": "markdown",
      "source": [
        "## 13 - ¿Es cierto que las personas que reciben más de 50k ['Target'] tienen al menos educación secundaria?"
      ],
      "metadata": {
        "id": "enf_qYPujyKK"
      }
    },
    {
      "cell_type": "code",
      "source": [
        "# personas que reciven mas de 50k\n",
        "cantidad_mayores = dt_prueba[(dt_prueba['Target']==' >50K.')]['Education'].count()\n",
        "print('la cantidad de personas que reciben mas de 50k es :\\n',cantidad_mayores)\n",
        "education = pd.unique(dt_prueba[(dt_prueba['Target']==' >50K.')]['Education'])\n",
        "print('--------------------------------------------------------------------')\n",
        "print('Las Educacion de las personas que reciven mas de  50k son: ',education)\n",
        "print('--------------------------------------------------------------------')\n"
      ],
      "metadata": {
        "colab": {
          "base_uri": "https://localhost:8080/"
        },
        "id": "kX12wa1dNXDV",
        "outputId": "e7bd9c93-0d2d-42b3-977c-8baef45da800"
      },
      "execution_count": null,
      "outputs": [
        {
          "output_type": "stream",
          "name": "stdout",
          "text": [
            "la cantidad de personas que reciben mas de 50k es :\n",
            " 1708\n",
            "--------------------------------------------------------------------\n",
            "Las Educacion de las personas que reciven mas de  50k son:  [' Some-college' ' Prof-school' ' HS-grad' ' Bachelors' ' Doctorate'\n",
            " ' Masters' ' Assoc-voc' ' Assoc-acdm' ' 5th-6th' ' 7th-8th' ' 11th'\n",
            " ' 10th' ' 9th' ' 12th' ' Preschool']\n",
            "--------------------------------------------------------------------\n"
          ]
        }
      ]
    },
    {
      "cell_type": "markdown",
      "source": [
        "* segun lo estudiado en la consulta se evidencia que es falso ya que en las personas que tienen un 'Target' mas de 50k, alugnos de ellos tienen educacion de: '5th-6th',' 7th-8th',' 11th',' 10th',' 9th',' 12th' '"
      ],
      "metadata": {
        "id": "jGb2yWGgONVo"
      }
    },
    {
      "cell_type": "markdown",
      "source": [
        "## 14.- ¿Cuál es el promedio, desviación, el valor máximo y mínimo en el dataset?"
      ],
      "metadata": {
        "id": "dqSZdEmZj1OS"
      }
    },
    {
      "cell_type": "code",
      "source": [
        "dt_prueba.describe()"
      ],
      "metadata": {
        "id": "9V0iNv7hj08K",
        "colab": {
          "base_uri": "https://localhost:8080/",
          "height": 300
        },
        "outputId": "59083db2-5bea-4a2e-ee67-899ca4898248"
      },
      "execution_count": null,
      "outputs": [
        {
          "output_type": "execute_result",
          "data": {
            "text/plain": [
              "               Age     Bodymass       Height        % BMI  Hours_per_week\n",
              "count  6775.000000  6775.000000  6775.000000  6775.000000     6775.000000\n",
              "mean     38.736089    79.862982     1.621451    31.492887       40.936384\n",
              "std      13.443526    20.316225     0.176436    10.736101       12.163617\n",
              "min      17.000000    45.000000     1.320200    12.220370        1.000000\n",
              "25%      28.000000    62.390000     1.466600    23.301500       40.000000\n",
              "50%      37.000000    79.640000     1.622800    30.135002       40.000000\n",
              "75%      48.000000    97.255000     1.772450    38.265453       45.000000\n",
              "max      90.000000   115.990000     1.929900    66.247723       99.000000"
            ],
            "text/html": [
              "\n",
              "  <div id=\"df-10dcf6cf-b63f-4a00-af24-c7c8d3213e8d\">\n",
              "    <div class=\"colab-df-container\">\n",
              "      <div>\n",
              "<style scoped>\n",
              "    .dataframe tbody tr th:only-of-type {\n",
              "        vertical-align: middle;\n",
              "    }\n",
              "\n",
              "    .dataframe tbody tr th {\n",
              "        vertical-align: top;\n",
              "    }\n",
              "\n",
              "    .dataframe thead th {\n",
              "        text-align: right;\n",
              "    }\n",
              "</style>\n",
              "<table border=\"1\" class=\"dataframe\">\n",
              "  <thead>\n",
              "    <tr style=\"text-align: right;\">\n",
              "      <th></th>\n",
              "      <th>Age</th>\n",
              "      <th>Bodymass</th>\n",
              "      <th>Height</th>\n",
              "      <th>% BMI</th>\n",
              "      <th>Hours_per_week</th>\n",
              "    </tr>\n",
              "  </thead>\n",
              "  <tbody>\n",
              "    <tr>\n",
              "      <th>count</th>\n",
              "      <td>6775.000000</td>\n",
              "      <td>6775.000000</td>\n",
              "      <td>6775.000000</td>\n",
              "      <td>6775.000000</td>\n",
              "      <td>6775.000000</td>\n",
              "    </tr>\n",
              "    <tr>\n",
              "      <th>mean</th>\n",
              "      <td>38.736089</td>\n",
              "      <td>79.862982</td>\n",
              "      <td>1.621451</td>\n",
              "      <td>31.492887</td>\n",
              "      <td>40.936384</td>\n",
              "    </tr>\n",
              "    <tr>\n",
              "      <th>std</th>\n",
              "      <td>13.443526</td>\n",
              "      <td>20.316225</td>\n",
              "      <td>0.176436</td>\n",
              "      <td>10.736101</td>\n",
              "      <td>12.163617</td>\n",
              "    </tr>\n",
              "    <tr>\n",
              "      <th>min</th>\n",
              "      <td>17.000000</td>\n",
              "      <td>45.000000</td>\n",
              "      <td>1.320200</td>\n",
              "      <td>12.220370</td>\n",
              "      <td>1.000000</td>\n",
              "    </tr>\n",
              "    <tr>\n",
              "      <th>25%</th>\n",
              "      <td>28.000000</td>\n",
              "      <td>62.390000</td>\n",
              "      <td>1.466600</td>\n",
              "      <td>23.301500</td>\n",
              "      <td>40.000000</td>\n",
              "    </tr>\n",
              "    <tr>\n",
              "      <th>50%</th>\n",
              "      <td>37.000000</td>\n",
              "      <td>79.640000</td>\n",
              "      <td>1.622800</td>\n",
              "      <td>30.135002</td>\n",
              "      <td>40.000000</td>\n",
              "    </tr>\n",
              "    <tr>\n",
              "      <th>75%</th>\n",
              "      <td>48.000000</td>\n",
              "      <td>97.255000</td>\n",
              "      <td>1.772450</td>\n",
              "      <td>38.265453</td>\n",
              "      <td>45.000000</td>\n",
              "    </tr>\n",
              "    <tr>\n",
              "      <th>max</th>\n",
              "      <td>90.000000</td>\n",
              "      <td>115.990000</td>\n",
              "      <td>1.929900</td>\n",
              "      <td>66.247723</td>\n",
              "      <td>99.000000</td>\n",
              "    </tr>\n",
              "  </tbody>\n",
              "</table>\n",
              "</div>\n",
              "      <button class=\"colab-df-convert\" onclick=\"convertToInteractive('df-10dcf6cf-b63f-4a00-af24-c7c8d3213e8d')\"\n",
              "              title=\"Convert this dataframe to an interactive table.\"\n",
              "              style=\"display:none;\">\n",
              "        \n",
              "  <svg xmlns=\"http://www.w3.org/2000/svg\" height=\"24px\"viewBox=\"0 0 24 24\"\n",
              "       width=\"24px\">\n",
              "    <path d=\"M0 0h24v24H0V0z\" fill=\"none\"/>\n",
              "    <path d=\"M18.56 5.44l.94 2.06.94-2.06 2.06-.94-2.06-.94-.94-2.06-.94 2.06-2.06.94zm-11 1L8.5 8.5l.94-2.06 2.06-.94-2.06-.94L8.5 2.5l-.94 2.06-2.06.94zm10 10l.94 2.06.94-2.06 2.06-.94-2.06-.94-.94-2.06-.94 2.06-2.06.94z\"/><path d=\"M17.41 7.96l-1.37-1.37c-.4-.4-.92-.59-1.43-.59-.52 0-1.04.2-1.43.59L10.3 9.45l-7.72 7.72c-.78.78-.78 2.05 0 2.83L4 21.41c.39.39.9.59 1.41.59.51 0 1.02-.2 1.41-.59l7.78-7.78 2.81-2.81c.8-.78.8-2.07 0-2.86zM5.41 20L4 18.59l7.72-7.72 1.47 1.35L5.41 20z\"/>\n",
              "  </svg>\n",
              "      </button>\n",
              "      \n",
              "  <style>\n",
              "    .colab-df-container {\n",
              "      display:flex;\n",
              "      flex-wrap:wrap;\n",
              "      gap: 12px;\n",
              "    }\n",
              "\n",
              "    .colab-df-convert {\n",
              "      background-color: #E8F0FE;\n",
              "      border: none;\n",
              "      border-radius: 50%;\n",
              "      cursor: pointer;\n",
              "      display: none;\n",
              "      fill: #1967D2;\n",
              "      height: 32px;\n",
              "      padding: 0 0 0 0;\n",
              "      width: 32px;\n",
              "    }\n",
              "\n",
              "    .colab-df-convert:hover {\n",
              "      background-color: #E2EBFA;\n",
              "      box-shadow: 0px 1px 2px rgba(60, 64, 67, 0.3), 0px 1px 3px 1px rgba(60, 64, 67, 0.15);\n",
              "      fill: #174EA6;\n",
              "    }\n",
              "\n",
              "    [theme=dark] .colab-df-convert {\n",
              "      background-color: #3B4455;\n",
              "      fill: #D2E3FC;\n",
              "    }\n",
              "\n",
              "    [theme=dark] .colab-df-convert:hover {\n",
              "      background-color: #434B5C;\n",
              "      box-shadow: 0px 1px 3px 1px rgba(0, 0, 0, 0.15);\n",
              "      filter: drop-shadow(0px 1px 2px rgba(0, 0, 0, 0.3));\n",
              "      fill: #FFFFFF;\n",
              "    }\n",
              "  </style>\n",
              "\n",
              "      <script>\n",
              "        const buttonEl =\n",
              "          document.querySelector('#df-10dcf6cf-b63f-4a00-af24-c7c8d3213e8d button.colab-df-convert');\n",
              "        buttonEl.style.display =\n",
              "          google.colab.kernel.accessAllowed ? 'block' : 'none';\n",
              "\n",
              "        async function convertToInteractive(key) {\n",
              "          const element = document.querySelector('#df-10dcf6cf-b63f-4a00-af24-c7c8d3213e8d');\n",
              "          const dataTable =\n",
              "            await google.colab.kernel.invokeFunction('convertToInteractive',\n",
              "                                                     [key], {});\n",
              "          if (!dataTable) return;\n",
              "\n",
              "          const docLinkHtml = 'Like what you see? Visit the ' +\n",
              "            '<a target=\"_blank\" href=https://colab.research.google.com/notebooks/data_table.ipynb>data table notebook</a>'\n",
              "            + ' to learn more about interactive tables.';\n",
              "          element.innerHTML = '';\n",
              "          dataTable['output_type'] = 'display_data';\n",
              "          await google.colab.output.renderOutput(dataTable, element);\n",
              "          const docLink = document.createElement('div');\n",
              "          docLink.innerHTML = docLinkHtml;\n",
              "          element.appendChild(docLink);\n",
              "        }\n",
              "      </script>\n",
              "    </div>\n",
              "  </div>\n",
              "  "
            ]
          },
          "metadata": {},
          "execution_count": 35
        }
      ]
    },
    {
      "cell_type": "markdown",
      "source": [
        "## 15.- ¿Cuál es la proporción Doctorate del país Colombia en el dataset?"
      ],
      "metadata": {
        "id": "ZipyVFjDkBk5"
      }
    },
    {
      "cell_type": "code",
      "source": [],
      "metadata": {
        "id": "EaPjqNvLCGGM"
      },
      "execution_count": null,
      "outputs": []
    },
    {
      "cell_type": "code",
      "source": [
        "num_doc = dt_prueba[(dt_prueba['Education'] == ' Doctorate') &(dt_prueba['Country']== ' Columbia')]['Education'].count()\n",
        "porcentaje=(num_doc)/len(dt_prueba)*100\n",
        "\n",
        "print(porcentaje)\n",
        "\n",
        "\n"
      ],
      "metadata": {
        "id": "Plkcz9E1kDsi",
        "colab": {
          "base_uri": "https://localhost:8080/"
        },
        "outputId": "6e6831dd-5a94-4520-d4d8-ae93090c4d48"
      },
      "execution_count": null,
      "outputs": [
        {
          "output_type": "stream",
          "name": "stdout",
          "text": [
            "0.0\n"
          ]
        }
      ]
    },
    {
      "cell_type": "code",
      "source": [
        "pais = pd.unique(df[(df['Education'] == ' Doctorate')]['Country'])\n",
        "\n",
        "#dt_prueba[(dt_prueba['Education'] == ' Doctorate') &(dt_prueba['Country']== ' Columbia')].count()"
      ],
      "metadata": {
        "id": "TOJwCi8NP5zp"
      },
      "execution_count": null,
      "outputs": []
    },
    {
      "cell_type": "markdown",
      "source": [
        "## 16.- ¿Cuál es la proporción Doctorate del país US en el dataset?\n",
        "\n"
      ],
      "metadata": {
        "id": "uxuu4zoLkEjx"
      }
    },
    {
      "cell_type": "code",
      "source": [
        "num_doc = dt_prueba[(dt_prueba['Education'] == ' Doctorate') &(dt_prueba['Country']== ' United-States')]['Education'].count()\n",
        "porcentaje=(num_doc)/len(dt_prueba)*100\n",
        "\n",
        "print(porcentaje)\n"
      ],
      "metadata": {
        "id": "3uRVHCx_kBYx",
        "colab": {
          "base_uri": "https://localhost:8080/"
        },
        "outputId": "fbfa74f1-b318-4ba7-e82e-0bcfbb68e8f3"
      },
      "execution_count": null,
      "outputs": [
        {
          "output_type": "stream",
          "name": "stdout",
          "text": [
            "1.062730627306273\n"
          ]
        }
      ]
    }
  ],
  "metadata": {
    "kernelspec": {
      "display_name": "Python 3",
      "language": "python",
      "name": "python3"
    },
    "language_info": {
      "codemirror_mode": {
        "name": "ipython",
        "version": 3
      },
      "file_extension": ".py",
      "mimetype": "text/x-python",
      "name": "python",
      "nbconvert_exporter": "python",
      "pygments_lexer": "ipython3",
      "version": "3.9.1"
    },
    "colab": {
      "provenance": []
    }
  },
  "nbformat": 4,
  "nbformat_minor": 0
}